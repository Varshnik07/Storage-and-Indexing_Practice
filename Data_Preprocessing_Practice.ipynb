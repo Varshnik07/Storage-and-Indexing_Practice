{
  "nbformat": 4,
  "nbformat_minor": 0,
  "metadata": {
    "colab": {
      "provenance": []
    },
    "kernelspec": {
      "name": "python3",
      "display_name": "Python 3"
    },
    "language_info": {
      "name": "python"
    }
  },
  "cells": [
    {
      "cell_type": "markdown",
      "source": [
        "Cleaning messy text using **re**"
      ],
      "metadata": {
        "id": "9FRiH6_MNi9n"
      }
    },
    {
      "cell_type": "code",
      "execution_count": 2,
      "metadata": {
        "colab": {
          "base_uri": "https://localhost:8080/"
        },
        "id": "hpUiLYmfNdxp",
        "outputId": "c02ac3ab-715f-44c6-e0d0-7190bca79230"
      },
      "outputs": [
        {
          "output_type": "stream",
          "name": "stdout",
          "text": [
            "Cleaned Text:\n",
            " Welcome to the STUDENT Performance system... This project analyzes students scores, feedback, and learningpatterns. Some students are STUDYING harder while others... are struggling with concepts. We will track performance across subjects math, science,, and history....\n"
          ]
        }
      ],
      "source": [
        "raw_text = \"\"\"\n",
        "@@ Welcome!!!  to the   STUDENT   Performance*** system...\n",
        "\n",
        "This  project -- analyzes  students'    scores,    feedback,     and learning-patterns.\n",
        "\n",
        "Some students are STUDYING (harder) while others??... are struggling!! with concepts.\n",
        "\n",
        "We will @track performance across    subjects:  math, science,, and history....!\n",
        "\"\"\"\n",
        "\n",
        "import re\n",
        "\n",
        "def clean_text(text):\n",
        "    text = re.sub(r'[^\\w\\s.,]', '', text)       # Remove symbols except letters, numbers, space, period, comma\n",
        "    text = re.sub(r'\\s{2,}', ' ', text)         # Replace multiple spaces with single space\n",
        "    text = re.sub(r'\\n+', '\\n', text)           # Remove excess newlines\n",
        "    return text.strip()\n",
        "\n",
        "# Try it\n",
        "cleaned_text = clean_text(raw_text)\n",
        "print(\"Cleaned Text:\\n\", cleaned_text)"
      ]
    },
    {
      "cell_type": "markdown",
      "source": [
        "Tokenization and Lemmatization using **spaCy**"
      ],
      "metadata": {
        "id": "XBS8bl7vOMZ6"
      }
    },
    {
      "cell_type": "code",
      "source": [
        "!pip install spacy\n",
        "import spacy\n",
        "\n",
        "# Load English NLP model\n",
        "nlp = spacy.load(\"en_core_web_sm\")\n",
        "\n",
        "def tokenize_and_lemmatize(text):\n",
        "    doc = nlp(text)\n",
        "    print(\"Tokens & Lemmas:\\n\")\n",
        "    for token in doc:\n",
        "        print(f\"{token.text:15} --> {token.lemma_}\")\n",
        "\n",
        "# Try it\n",
        "tokenize_and_lemmatize(cleaned_text)"
      ],
      "metadata": {
        "colab": {
          "base_uri": "https://localhost:8080/"
        },
        "id": "oS3gRQxHOMrl",
        "outputId": "bad04d38-b510-46d9-c4f2-26d1ffa47fff"
      },
      "execution_count": 3,
      "outputs": [
        {
          "output_type": "stream",
          "name": "stdout",
          "text": [
            "Requirement already satisfied: spacy in /usr/local/lib/python3.11/dist-packages (3.8.5)\n",
            "Requirement already satisfied: spacy-legacy<3.1.0,>=3.0.11 in /usr/local/lib/python3.11/dist-packages (from spacy) (3.0.12)\n",
            "Requirement already satisfied: spacy-loggers<2.0.0,>=1.0.0 in /usr/local/lib/python3.11/dist-packages (from spacy) (1.0.5)\n",
            "Requirement already satisfied: murmurhash<1.1.0,>=0.28.0 in /usr/local/lib/python3.11/dist-packages (from spacy) (1.0.12)\n",
            "Requirement already satisfied: cymem<2.1.0,>=2.0.2 in /usr/local/lib/python3.11/dist-packages (from spacy) (2.0.11)\n",
            "Requirement already satisfied: preshed<3.1.0,>=3.0.2 in /usr/local/lib/python3.11/dist-packages (from spacy) (3.0.9)\n",
            "Requirement already satisfied: thinc<8.4.0,>=8.3.4 in /usr/local/lib/python3.11/dist-packages (from spacy) (8.3.6)\n",
            "Requirement already satisfied: wasabi<1.2.0,>=0.9.1 in /usr/local/lib/python3.11/dist-packages (from spacy) (1.1.3)\n",
            "Requirement already satisfied: srsly<3.0.0,>=2.4.3 in /usr/local/lib/python3.11/dist-packages (from spacy) (2.5.1)\n",
            "Requirement already satisfied: catalogue<2.1.0,>=2.0.6 in /usr/local/lib/python3.11/dist-packages (from spacy) (2.0.10)\n",
            "Requirement already satisfied: weasel<0.5.0,>=0.1.0 in /usr/local/lib/python3.11/dist-packages (from spacy) (0.4.1)\n",
            "Requirement already satisfied: typer<1.0.0,>=0.3.0 in /usr/local/lib/python3.11/dist-packages (from spacy) (0.15.2)\n",
            "Requirement already satisfied: tqdm<5.0.0,>=4.38.0 in /usr/local/lib/python3.11/dist-packages (from spacy) (4.67.1)\n",
            "Requirement already satisfied: numpy>=1.19.0 in /usr/local/lib/python3.11/dist-packages (from spacy) (2.0.2)\n",
            "Requirement already satisfied: requests<3.0.0,>=2.13.0 in /usr/local/lib/python3.11/dist-packages (from spacy) (2.32.3)\n",
            "Requirement already satisfied: pydantic!=1.8,!=1.8.1,<3.0.0,>=1.7.4 in /usr/local/lib/python3.11/dist-packages (from spacy) (2.11.2)\n",
            "Requirement already satisfied: jinja2 in /usr/local/lib/python3.11/dist-packages (from spacy) (3.1.6)\n",
            "Requirement already satisfied: setuptools in /usr/local/lib/python3.11/dist-packages (from spacy) (75.2.0)\n",
            "Requirement already satisfied: packaging>=20.0 in /usr/local/lib/python3.11/dist-packages (from spacy) (24.2)\n",
            "Requirement already satisfied: langcodes<4.0.0,>=3.2.0 in /usr/local/lib/python3.11/dist-packages (from spacy) (3.5.0)\n",
            "Requirement already satisfied: language-data>=1.2 in /usr/local/lib/python3.11/dist-packages (from langcodes<4.0.0,>=3.2.0->spacy) (1.3.0)\n",
            "Requirement already satisfied: annotated-types>=0.6.0 in /usr/local/lib/python3.11/dist-packages (from pydantic!=1.8,!=1.8.1,<3.0.0,>=1.7.4->spacy) (0.7.0)\n",
            "Requirement already satisfied: pydantic-core==2.33.1 in /usr/local/lib/python3.11/dist-packages (from pydantic!=1.8,!=1.8.1,<3.0.0,>=1.7.4->spacy) (2.33.1)\n",
            "Requirement already satisfied: typing-extensions>=4.12.2 in /usr/local/lib/python3.11/dist-packages (from pydantic!=1.8,!=1.8.1,<3.0.0,>=1.7.4->spacy) (4.13.1)\n",
            "Requirement already satisfied: typing-inspection>=0.4.0 in /usr/local/lib/python3.11/dist-packages (from pydantic!=1.8,!=1.8.1,<3.0.0,>=1.7.4->spacy) (0.4.0)\n",
            "Requirement already satisfied: charset-normalizer<4,>=2 in /usr/local/lib/python3.11/dist-packages (from requests<3.0.0,>=2.13.0->spacy) (3.4.1)\n",
            "Requirement already satisfied: idna<4,>=2.5 in /usr/local/lib/python3.11/dist-packages (from requests<3.0.0,>=2.13.0->spacy) (3.10)\n",
            "Requirement already satisfied: urllib3<3,>=1.21.1 in /usr/local/lib/python3.11/dist-packages (from requests<3.0.0,>=2.13.0->spacy) (2.3.0)\n",
            "Requirement already satisfied: certifi>=2017.4.17 in /usr/local/lib/python3.11/dist-packages (from requests<3.0.0,>=2.13.0->spacy) (2025.1.31)\n",
            "Requirement already satisfied: blis<1.4.0,>=1.3.0 in /usr/local/lib/python3.11/dist-packages (from thinc<8.4.0,>=8.3.4->spacy) (1.3.0)\n",
            "Requirement already satisfied: confection<1.0.0,>=0.0.1 in /usr/local/lib/python3.11/dist-packages (from thinc<8.4.0,>=8.3.4->spacy) (0.1.5)\n",
            "Requirement already satisfied: click>=8.0.0 in /usr/local/lib/python3.11/dist-packages (from typer<1.0.0,>=0.3.0->spacy) (8.1.8)\n",
            "Requirement already satisfied: shellingham>=1.3.0 in /usr/local/lib/python3.11/dist-packages (from typer<1.0.0,>=0.3.0->spacy) (1.5.4)\n",
            "Requirement already satisfied: rich>=10.11.0 in /usr/local/lib/python3.11/dist-packages (from typer<1.0.0,>=0.3.0->spacy) (13.9.4)\n",
            "Requirement already satisfied: cloudpathlib<1.0.0,>=0.7.0 in /usr/local/lib/python3.11/dist-packages (from weasel<0.5.0,>=0.1.0->spacy) (0.21.0)\n",
            "Requirement already satisfied: smart-open<8.0.0,>=5.2.1 in /usr/local/lib/python3.11/dist-packages (from weasel<0.5.0,>=0.1.0->spacy) (7.1.0)\n",
            "Requirement already satisfied: MarkupSafe>=2.0 in /usr/local/lib/python3.11/dist-packages (from jinja2->spacy) (3.0.2)\n",
            "Requirement already satisfied: marisa-trie>=1.1.0 in /usr/local/lib/python3.11/dist-packages (from language-data>=1.2->langcodes<4.0.0,>=3.2.0->spacy) (1.2.1)\n",
            "Requirement already satisfied: markdown-it-py>=2.2.0 in /usr/local/lib/python3.11/dist-packages (from rich>=10.11.0->typer<1.0.0,>=0.3.0->spacy) (3.0.0)\n",
            "Requirement already satisfied: pygments<3.0.0,>=2.13.0 in /usr/local/lib/python3.11/dist-packages (from rich>=10.11.0->typer<1.0.0,>=0.3.0->spacy) (2.18.0)\n",
            "Requirement already satisfied: wrapt in /usr/local/lib/python3.11/dist-packages (from smart-open<8.0.0,>=5.2.1->weasel<0.5.0,>=0.1.0->spacy) (1.17.2)\n",
            "Requirement already satisfied: mdurl~=0.1 in /usr/local/lib/python3.11/dist-packages (from markdown-it-py>=2.2.0->rich>=10.11.0->typer<1.0.0,>=0.3.0->spacy) (0.1.2)\n",
            "Tokens & Lemmas:\n",
            "\n",
            "Welcome         --> welcome\n",
            "to              --> to\n",
            "the             --> the\n",
            "STUDENT         --> student\n",
            "Performance     --> performance\n",
            "system          --> system\n",
            "...             --> ...\n",
            "This            --> this\n",
            "project         --> project\n",
            "analyzes        --> analyze\n",
            "students        --> student\n",
            "scores          --> score\n",
            ",               --> ,\n",
            "feedback        --> feedback\n",
            ",               --> ,\n",
            "and             --> and\n",
            "learningpatterns --> learningpatterns\n",
            ".               --> .\n",
            "Some            --> some\n",
            "students        --> student\n",
            "are             --> be\n",
            "STUDYING        --> study\n",
            "harder          --> hard\n",
            "while           --> while\n",
            "others          --> other\n",
            "...             --> ...\n",
            "are             --> be\n",
            "struggling      --> struggle\n",
            "with            --> with\n",
            "concepts        --> concept\n",
            ".               --> .\n",
            "We              --> we\n",
            "will            --> will\n",
            "track           --> track\n",
            "performance     --> performance\n",
            "across          --> across\n",
            "subjects        --> subject\n",
            "math            --> math\n",
            ",               --> ,\n",
            "science         --> science\n",
            ",               --> ,\n",
            ",               --> ,\n",
            "and             --> and\n",
            "history         --> history\n",
            "....            --> ....\n"
          ]
        }
      ]
    },
    {
      "cell_type": "markdown",
      "source": [
        "Cleaning messy table using **pandas**"
      ],
      "metadata": {
        "id": "2721-t9wOsws"
      }
    },
    {
      "cell_type": "code",
      "source": [
        "raw_table = [\n",
        "    [\"Name\", \"Score\", \"Remarks\"],\n",
        "    [\"Alice\", \"87\", \"Good improvement\"],\n",
        "    [\"Bob\", \"91\"],                       # Missing Remarks\n",
        "    [\"Carol\", \"\", \"Needs support\"],      # Missing Score\n",
        "    [\"\", \"75\", \"Average\"],               # Missing Name\n",
        "    [\"David\", \"89\", \"\"]                  # Missing Remarks\n",
        "]\n",
        "\n",
        "import pandas as pd\n",
        "\n",
        "def clean_table_data(raw_table):\n",
        "    max_cols = max(len(row) for row in raw_table)\n",
        "    padded_rows = [row + ['']*(max_cols - len(row)) for row in raw_table]\n",
        "    df = pd.DataFrame(padded_rows[1:], columns=padded_rows[0])\n",
        "    return df\n",
        "\n",
        "# Try it\n",
        "df = clean_table_data(raw_table)\n",
        "print(\"\\nCleaned DataFrame:\\n\")\n",
        "print(df)"
      ],
      "metadata": {
        "colab": {
          "base_uri": "https://localhost:8080/"
        },
        "id": "LnMAW_03OxNf",
        "outputId": "c58c89c0-629b-4891-ae1d-1ecdafc5e688"
      },
      "execution_count": 4,
      "outputs": [
        {
          "output_type": "stream",
          "name": "stdout",
          "text": [
            "\n",
            "Cleaned DataFrame:\n",
            "\n",
            "    Name Score           Remarks\n",
            "0  Alice    87  Good improvement\n",
            "1    Bob    91                  \n",
            "2  Carol           Needs support\n",
            "3           75           Average\n",
            "4  David    89                  \n"
          ]
        }
      ]
    }
  ]
}